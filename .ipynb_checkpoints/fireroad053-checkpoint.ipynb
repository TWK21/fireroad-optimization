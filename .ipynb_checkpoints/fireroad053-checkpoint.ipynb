{
 "cells": [
  {
   "cell_type": "code",
   "execution_count": 35,
   "metadata": {},
   "outputs": [
    {
     "data": {
      "text/plain": [
       "Any[]"
      ]
     },
     "execution_count": 35,
     "metadata": {},
     "output_type": "execute_result"
    }
   ],
   "source": [
    "# Inputs from the student\n",
    "using DataFrames, CSV\n",
    "\n",
    "# current student using the program\n",
    "student = 3\n",
    "\n",
    "# classes the student intends to take\n",
    "required = []\n",
    "\n",
    "# student intends to take subject s in semester t\n",
    "subject = []\n",
    "semester = []\n",
    "\n",
    "# a list of (s,t): subject s students canNOT take in semester t\n",
    "req_not = []\n",
    "\n",
    "# preferences of workload: # of units per sem, # of hours per sem\n",
    "preference = []\n",
    "\n"
   ]
  },
  {
   "cell_type": "code",
   "execution_count": 36,
   "metadata": {},
   "outputs": [
    {
     "data": {
      "text/html": [
       "<table class=\"data-frame\"><thead><tr><th></th><th>Student number</th><th>Major</th><th>Semester 1</th><th>Semester 2</th></tr><tr><th></th><th>Int64</th><th>String</th><th>String</th><th>String?</th></tr></thead><tbody><p>6 rows × 10 columns (omitted printing of 6 columns)</p><tr><th>1</th><td>1</td><td>18</td><td>[HASS1, 18.01, 8.01, 5.111]</td><td><em>missing</em></td></tr><tr><th>2</th><td>2</td><td>18</td><td>[HASS1, 18.01, 8.01, 7.012 ]</td><td>[HASS2, 18.02, 18.600, 8.02 ]</td></tr><tr><th>3</th><td>3</td><td>18</td><td>[HASS1, 18.01, 7.012, 5.111]</td><td>[HASS2, 18.02, 18.600, 8.02]</td></tr><tr><th>4</th><td>4</td><td>15-2:6</td><td>[6.0001/6.0002, 8.01, HASS1,18.01]</td><td><em>missing</em></td></tr><tr><th>5</th><td>5</td><td>15-2:6</td><td>[6.0001/6.0002, 3.091, HASS1, 18.01]</td><td>[8.02, 18.02, 7.012, HASS2]</td></tr><tr><th>6</th><td>6</td><td>15-2:6</td><td>[HASS1, 6.0001/6.0002,  18.01, 8.01]</td><td>[HASS2, 15.053, 8.02, 18.02 ]</td></tr></tbody></table>"
      ],
      "text/latex": [
       "\\begin{tabular}{r|ccccc}\n",
       "\t& Student number & Major & Semester 1 & Semester 2 & \\\\\n",
       "\t\\hline\n",
       "\t& Int64 & String & String & String? & \\\\\n",
       "\t\\hline\n",
       "\t1 & 1 & 18 & [HASS1, 18.01, 8.01, 5.111] & \\emph{missing} & $\\dots$ \\\\\n",
       "\t2 & 2 & 18 & [HASS1, 18.01, 8.01, 7.012 ] & [HASS2, 18.02, 18.600, 8.02 ] & $\\dots$ \\\\\n",
       "\t3 & 3 & 18 & [HASS1, 18.01, 7.012, 5.111] & [HASS2, 18.02, 18.600, 8.02] & $\\dots$ \\\\\n",
       "\t4 & 4 & 15-2:6 & [6.0001/6.0002, 8.01, HASS1,18.01] & \\emph{missing} & $\\dots$ \\\\\n",
       "\t5 & 5 & 15-2:6 & [6.0001/6.0002, 3.091, HASS1, 18.01] & [8.02, 18.02, 7.012, HASS2] & $\\dots$ \\\\\n",
       "\t6 & 6 & 15-2:6 & [HASS1, 6.0001/6.0002,  18.01, 8.01] & [HASS2, 15.053, 8.02, 18.02 ] & $\\dots$ \\\\\n",
       "\\end{tabular}\n"
      ],
      "text/plain": [
       "\u001b[1m6×10 DataFrame\u001b[0m\n",
       "\u001b[1m Row \u001b[0m│\u001b[1m Student number \u001b[0m\u001b[1m Major  \u001b[0m\u001b[1m Semester 1                        \u001b[0m\u001b[1m Semester 2  \u001b[0m ⋯\n",
       "\u001b[1m     \u001b[0m│\u001b[90m Int64          \u001b[0m\u001b[90m String \u001b[0m\u001b[90m String                            \u001b[0m\u001b[90m String?     \u001b[0m ⋯\n",
       "─────┼──────────────────────────────────────────────────────────────────────────\n",
       "   1 │              1  18      [HASS1, 18.01, 8.01, 5.111]       \u001b[90m missing     \u001b[0m ⋯\n",
       "   2 │              2  18      [HASS1, 18.01, 8.01, 7.012 ]       [HASS2, 18.0\n",
       "   3 │              3  18      [HASS1, 18.01, 7.012, 5.111]       [HASS2, 18.0\n",
       "   4 │              4  15-2:6  [6.0001/6.0002, 8.01, HASS1,18.0… \u001b[90m missing\u001b[0m\n",
       "   5 │              5  15-2:6  [6.0001/6.0002, 3.091, HASS1, 18…  [8.02, 18.02 ⋯\n",
       "   6 │              6  15-2:6  [HASS1, 6.0001/6.0002,  18.01, 8…  [HASS2, 15.0\n",
       "\u001b[36m                                                               7 columns omitted\u001b[0m"
      ]
     },
     "execution_count": 36,
     "metadata": {},
     "output_type": "execute_result"
    }
   ],
   "source": [
    "# Importing the courses the student has already taken\n",
    "using DataFrames, CSV\n",
    "\n",
    "example_students = CSV.read(\"ExampleStudents.csv\", DataFrame)\n",
    "example_students"
   ]
  },
  {
   "cell_type": "code",
   "execution_count": 75,
   "metadata": {},
   "outputs": [
    {
     "name": "stdout",
     "output_type": "stream",
     "text": [
      "Any[\"HASS1\", \"18.01\", \"7.012\", \"5.111\", \"HASS2\", \"18.02\", \"18.600\", \"8.02\", \"HASS3\", \"18.032\", \"18.650\", \"18.330\", \"HASS4\", \"18.112\", \"18.212\", \"18.453\", \"HASS5\", \"18.200\", \"18.410\", \"18.303\"]\n"
     ]
    },
    {
     "data": {
      "text/plain": [
       "6"
      ]
     },
     "execution_count": 75,
     "metadata": {},
     "output_type": "execute_result"
    }
   ],
   "source": [
    "# courses already taken by the student \n",
    "completed_courses = []\n",
    "for i in 3:10\n",
    "    if typeof(example_students[student, i]) != Missing\n",
    "        semester  = replace(replace(example_students[student, i], \"[\"=>\"\"), \"]\"=>\"\") #remove \"[\" and \"]\"\" from the string\n",
    "        semester = replace(semester, \" \"=>\"\") #remove spaces from string\n",
    "        semester = split(semester, \",\") #split the string into individual classes\n",
    "        append!(completed_courses, semester)\n",
    "    end\n",
    "end\n",
    "println(completed_courses)\n",
    "\n",
    "# compute the student's current term\n",
    "completed_terms = 0\n",
    "for i in 3:10\n",
    "    if typeof(example_students[student, i]) != Missing\n",
    "        completed_terms += 1\n",
    "    end\n",
    "end\n",
    "current_term = 1 + completed_terms"
   ]
  },
  {
   "cell_type": "code",
   "execution_count": 76,
   "metadata": {},
   "outputs": [
    {
     "data": {
      "text/html": [
       "<table class=\"data-frame\"><thead><tr><th></th><th>Column1</th><th>ID</th><th>Units</th><th>Course</th><th>Prereqs</th></tr><tr><th></th><th>Int64</th><th>String</th><th>Int64</th><th>String</th><th>String?</th></tr></thead><tbody><p>2,292 rows × 6 columns (omitted printing of 1 columns)</p><tr><th>1</th><td>0</td><td>1.00</td><td>12</td><td>1</td><td>GIR:CAL1</td></tr><tr><th>2</th><td>1</td><td>1.001</td><td>12</td><td>1</td><td>GIR:CAL1</td></tr><tr><th>3</th><td>2</td><td>1.004</td><td>12</td><td>1</td><td><em>missing</em></td></tr><tr><th>4</th><td>3</td><td>1.006</td><td>12</td><td>1</td><td><em>missing</em></td></tr><tr><th>5</th><td>4</td><td>1.013</td><td>6</td><td>1</td><td>Permission of instructor</td></tr><tr><th>6</th><td>5</td><td>1.015</td><td>12</td><td>1</td><td>2.003, 2.016, and 2.678; [2.671]</td></tr><tr><th>7</th><td>6</td><td>1.016</td><td>9</td><td>1</td><td><em>missing</em></td></tr><tr><th>8</th><td>7</td><td>1.020</td><td>12</td><td>1</td><td>GIR:PHY1, 18.03, and (1.00 or 1.000)</td></tr><tr><th>9</th><td>8</td><td>1.021</td><td>12</td><td>1</td><td>18.03, 3.016B, or permission of instructor</td></tr><tr><th>10</th><td>9</td><td>1.024</td><td>6</td><td>1</td><td>(1.000 and 1.010) or permission of instructor; [6.402]</td></tr><tr><th>11</th><td>10</td><td>1.035</td><td>12</td><td>1</td><td>1.050 or permission of instructor</td></tr><tr><th>12</th><td>11</td><td>1.036</td><td>12</td><td>1</td><td>1.035 and 1.050</td></tr><tr><th>13</th><td>12</td><td>1.037</td><td>12</td><td>1</td><td><em>missing</em></td></tr><tr><th>14</th><td>13</td><td>1.053</td><td>12</td><td>1</td><td>GIR:PHY2; [2.087 or 18.03]</td></tr><tr><th>15</th><td>14</td><td>1.056</td><td>12</td><td>1</td><td>GIR:CAL2</td></tr><tr><th>16</th><td>15</td><td>1.060</td><td>12</td><td>1</td><td><em>missing</em></td></tr><tr><th>17</th><td>16</td><td>1.060A</td><td>6</td><td>1</td><td>[18.03]; or permission of instructor</td></tr><tr><th>18</th><td>17</td><td>1.062</td><td>12</td><td>1</td><td>GIR:PHY2 and (18.03 or 18.032)</td></tr><tr><th>19</th><td>18</td><td>1.071</td><td>12</td><td>1</td><td>18.03</td></tr><tr><th>20</th><td>19</td><td>1.072</td><td>12</td><td>1</td><td>1.061</td></tr><tr><th>21</th><td>20</td><td>1.075</td><td>12</td><td>1</td><td>1.070B or permission of instructor</td></tr><tr><th>22</th><td>21</td><td>1.080</td><td>12</td><td>1</td><td>GIR:CHEM</td></tr><tr><th>23</th><td>22</td><td>1.081</td><td>12</td><td>1</td><td>GIR:BIOL, GIR:CAL2, and GIR:CHEM</td></tr><tr><th>24</th><td>23</td><td>1.082</td><td>6</td><td>1</td><td><em>missing</em></td></tr><tr><th>25</th><td>24</td><td>1.088</td><td>12</td><td>1</td><td>GIR:BIOL and (1.000 or 6.0002)</td></tr><tr><th>26</th><td>25</td><td>1.106</td><td>6</td><td>1</td><td>[1.061A]</td></tr><tr><th>27</th><td>26</td><td>1.107</td><td>6</td><td>1</td><td>[1.080]</td></tr><tr><th>28</th><td>27</td><td>1.138</td><td>12</td><td>1</td><td>2.003 and 18.075</td></tr><tr><th>29</th><td>28</td><td>1.142</td><td>12</td><td>1</td><td>18.06 or permission of instructor</td></tr><tr><th>30</th><td>29</td><td>1.147</td><td>12</td><td>1</td><td><em>missing</em></td></tr><tr><th>&vellip;</th><td>&vellip;</td><td>&vellip;</td><td>&vellip;</td><td>&vellip;</td><td>&vellip;</td></tr></tbody></table>"
      ],
      "text/latex": [
       "\\begin{tabular}{r|cccccc}\n",
       "\t& Column1 & ID & Units & Course & Prereqs & \\\\\n",
       "\t\\hline\n",
       "\t& Int64 & String & Int64 & String & String? & \\\\\n",
       "\t\\hline\n",
       "\t1 & 0 & 1.00 & 12 & 1 & GIR:CAL1 & $\\dots$ \\\\\n",
       "\t2 & 1 & 1.001 & 12 & 1 & GIR:CAL1 & $\\dots$ \\\\\n",
       "\t3 & 2 & 1.004 & 12 & 1 & \\emph{missing} & $\\dots$ \\\\\n",
       "\t4 & 3 & 1.006 & 12 & 1 & \\emph{missing} & $\\dots$ \\\\\n",
       "\t5 & 4 & 1.013 & 6 & 1 & Permission of instructor & $\\dots$ \\\\\n",
       "\t6 & 5 & 1.015 & 12 & 1 & 2.003, 2.016, and 2.678; [2.671] & $\\dots$ \\\\\n",
       "\t7 & 6 & 1.016 & 9 & 1 & \\emph{missing} & $\\dots$ \\\\\n",
       "\t8 & 7 & 1.020 & 12 & 1 & GIR:PHY1, 18.03, and (1.00 or 1.000) & $\\dots$ \\\\\n",
       "\t9 & 8 & 1.021 & 12 & 1 & 18.03, 3.016B, or permission of instructor & $\\dots$ \\\\\n",
       "\t10 & 9 & 1.024 & 6 & 1 & (1.000 and 1.010) or permission of instructor; [6.402] & $\\dots$ \\\\\n",
       "\t11 & 10 & 1.035 & 12 & 1 & 1.050 or permission of instructor & $\\dots$ \\\\\n",
       "\t12 & 11 & 1.036 & 12 & 1 & 1.035 and 1.050 & $\\dots$ \\\\\n",
       "\t13 & 12 & 1.037 & 12 & 1 & \\emph{missing} & $\\dots$ \\\\\n",
       "\t14 & 13 & 1.053 & 12 & 1 & GIR:PHY2; [2.087 or 18.03] & $\\dots$ \\\\\n",
       "\t15 & 14 & 1.056 & 12 & 1 & GIR:CAL2 & $\\dots$ \\\\\n",
       "\t16 & 15 & 1.060 & 12 & 1 & \\emph{missing} & $\\dots$ \\\\\n",
       "\t17 & 16 & 1.060A & 6 & 1 & [18.03]; or permission of instructor & $\\dots$ \\\\\n",
       "\t18 & 17 & 1.062 & 12 & 1 & GIR:PHY2 and (18.03 or 18.032) & $\\dots$ \\\\\n",
       "\t19 & 18 & 1.071 & 12 & 1 & 18.03 & $\\dots$ \\\\\n",
       "\t20 & 19 & 1.072 & 12 & 1 & 1.061 & $\\dots$ \\\\\n",
       "\t21 & 20 & 1.075 & 12 & 1 & 1.070B or permission of instructor & $\\dots$ \\\\\n",
       "\t22 & 21 & 1.080 & 12 & 1 & GIR:CHEM & $\\dots$ \\\\\n",
       "\t23 & 22 & 1.081 & 12 & 1 & GIR:BIOL, GIR:CAL2, and GIR:CHEM & $\\dots$ \\\\\n",
       "\t24 & 23 & 1.082 & 6 & 1 & \\emph{missing} & $\\dots$ \\\\\n",
       "\t25 & 24 & 1.088 & 12 & 1 & GIR:BIOL and (1.000 or 6.0002) & $\\dots$ \\\\\n",
       "\t26 & 25 & 1.106 & 6 & 1 & [1.061A] & $\\dots$ \\\\\n",
       "\t27 & 26 & 1.107 & 6 & 1 & [1.080] & $\\dots$ \\\\\n",
       "\t28 & 27 & 1.138 & 12 & 1 & 2.003 and 18.075 & $\\dots$ \\\\\n",
       "\t29 & 28 & 1.142 & 12 & 1 & 18.06 or permission of instructor & $\\dots$ \\\\\n",
       "\t30 & 29 & 1.147 & 12 & 1 & \\emph{missing} & $\\dots$ \\\\\n",
       "\t$\\dots$ & $\\dots$ & $\\dots$ & $\\dots$ & $\\dots$ & $\\dots$ &  \\\\\n",
       "\\end{tabular}\n"
      ],
      "text/plain": [
       "\u001b[1m2292×6 DataFrame\u001b[0m\n",
       "\u001b[1m  Row \u001b[0m│\u001b[1m Column1 \u001b[0m\u001b[1m ID      \u001b[0m\u001b[1m Units \u001b[0m\u001b[1m Course \u001b[0m\u001b[1m Prereqs                           \u001b[0m\u001b[1m Se\u001b[0m ⋯\n",
       "\u001b[1m      \u001b[0m│\u001b[90m Int64   \u001b[0m\u001b[90m String  \u001b[0m\u001b[90m Int64 \u001b[0m\u001b[90m String \u001b[0m\u001b[90m String?                           \u001b[0m\u001b[90m St\u001b[0m ⋯\n",
       "──────┼─────────────────────────────────────────────────────────────────────────\n",
       "    1 │       0  1.00        12  1       GIR:CAL1                           [' ⋯\n",
       "    2 │       1  1.001       12  1       GIR:CAL1                           ['\n",
       "    3 │       2  1.004       12  1      \u001b[90m missing                           \u001b[0m ['\n",
       "    4 │       3  1.006       12  1      \u001b[90m missing                           \u001b[0m ['\n",
       "    5 │       4  1.013        6  1       Permission of instructor           [' ⋯\n",
       "    6 │       5  1.015       12  1       2.003, 2.016, and 2.678; [2.671]   ['\n",
       "    7 │       6  1.016        9  1      \u001b[90m missing                           \u001b[0m ['\n",
       "    8 │       7  1.020       12  1       GIR:PHY1, 18.03, and (1.00 or 1.…  ['\n",
       "    9 │       8  1.021       12  1       18.03, 3.016B, or permission of …  [' ⋯\n",
       "   10 │       9  1.024        6  1       (1.000 and 1.010) or permission …  ['\n",
       "   11 │      10  1.035       12  1       1.050 or permission of instructor  ['\n",
       "  ⋮   │    ⋮        ⋮       ⋮      ⋮                     ⋮                     ⋱\n",
       " 2283 │    2282  WGS.275     12  WGS    \u001b[90m missing                           \u001b[0m ['\n",
       " 2284 │    2283  WGS.301     12  WGS    \u001b[90m missing                           \u001b[0m [' ⋯\n",
       " 2285 │    2284  WGS.400      0  WGS     Permission of instructor           ['\n",
       " 2286 │    2285  WGS.600     12  WGS     Must apply to the Graduate Conso…  ['\n",
       " 2287 │    2286  WGS.615     12  WGS     Must apply to the Graduate Conso…  ['\n",
       " 2288 │    2287  WGS.640     12  WGS     Must apply to the Graduate Conso…  [' ⋯\n",
       " 2289 │    2288  WGS.645     12  WGS     Application to the Graduate Cons…  ['\n",
       " 2290 │    2289  WGS.S10     12  WGS    \u001b[90m missing                           \u001b[0m ['\n",
       " 2291 │    2290  WGS.UR       0  WGS     Permission of instructor           ['\n",
       " 2292 │    2291  WGS.URG      0  WGS     Permission of instructor           [' ⋯\n",
       "\u001b[36m                                                  1 column and 2271 rows omitted\u001b[0m"
      ]
     },
     "execution_count": 76,
     "metadata": {},
     "output_type": "execute_result"
    }
   ],
   "source": [
    "# Importing all the courses at MIT\n",
    "using DataFrames, CSV\n",
    "\n",
    "# all available courses\n",
    "courses = CSV.read(\"courses.csv\", DataFrame)\n",
    "courses\n"
   ]
  },
  {
   "cell_type": "code",
   "execution_count": 77,
   "metadata": {},
   "outputs": [
    {
     "ename": "LoadError",
     "evalue": "\u001b[91mGurobi Error 10009: Failed to obtain a valid license\u001b[39m",
     "output_type": "error",
     "traceback": [
      "\u001b[91mGurobi Error 10009: Failed to obtain a valid license\u001b[39m",
      "",
      "Stacktrace:",
      " [1] error(::String) at .\\error.jl:33",
      " [2] Gurobi.Env() at C:\\Users\\Audrey Chen\\.julia\\packages\\Gurobi\\qk7lG\\src\\MOI_wrapper.jl:89",
      " [3] Gurobi.Optimizer(::Nothing; kwargs::Base.Iterators.Pairs{Union{},Union{},Tuple{},NamedTuple{(),Tuple{}}}) at C:\\Users\\Audrey Chen\\.julia\\packages\\Gurobi\\qk7lG\\src\\MOI_wrapper.jl:227",
      " [4] Optimizer at C:\\Users\\Audrey Chen\\.julia\\packages\\Gurobi\\qk7lG\\src\\MOI_wrapper.jl:225 [inlined] (repeats 2 times)",
      " [5] (::OptimizerFactory)() at C:\\Users\\Audrey Chen\\.julia\\packages\\JuMP\\iGamg\\src\\JuMP.jl:99",
      " [6] set_optimizer(::Model, ::OptimizerFactory; bridge_constraints::Bool) at C:\\Users\\Audrey Chen\\.julia\\packages\\JuMP\\iGamg\\src\\optimizer_interface.jl:38",
      " [7] Model(::OptimizerFactory; bridge_constraints::Bool, kwargs::Base.Iterators.Pairs{Union{},Union{},Tuple{},NamedTuple{(),Tuple{}}}) at C:\\Users\\Audrey Chen\\.julia\\packages\\JuMP\\iGamg\\src\\JuMP.jl:194",
      " [8] Model(::OptimizerFactory) at C:\\Users\\Audrey Chen\\.julia\\packages\\JuMP\\iGamg\\src\\JuMP.jl:193",
      " [9] top-level scope at In[77]:5",
      " [10] include_string(::Function, ::Module, ::String, ::String) at .\\loading.jl:1091"
     ]
    }
   ],
   "source": [
    "# --- Model specification\n",
    "using JuMP, DataFrames, Gurobi\n",
    "\n",
    "# Model\n",
    "model = Model(with_optimizer(Gurobi.Optimizer))\n",
    "\n",
    "# Decision variables\n",
    "# x(s,t): subject s is taken in semester t\n",
    "@variable(model, x[1:2292, 1:8], Bin)\n",
    "\n",
    "# Objective Function\n",
    "# Maximize the total utility of the subjects taken\n",
    "@objective(model, Max, sum(courses[i, 6]*x[i, j] for i in 1:2292, j in current_term:8))\n",
    "\n",
    "# Constraints\n",
    "# Every GIR requirement = 1, sum = 6   \n",
    "@constraint(model, sum(x[745, t] for t in 1:8) == 1) #must take 18.01\n",
    "@constraint(model, sum(x[746, t] + x[747, t] for t in 1:8) == 1) #must take 18.02\n",
    "@constraint(model, sum(x[1760, t] + x[1761, t] for t in 1:8) == 1) #must take 7.014 or 7.016\n",
    "@constraint(model, sum(x[1842, t] for t in 1:8) == 1) #must take 8.011 or 8.01\n",
    "@constraint(model, sum(x[1843, t] + x[1844, t] for t in 1:8) == 1) #must take 8.02 or 8.022\n",
    "@constraint(model, sum(x[1587, t] + x[1404, t] for t in 1:8) == 1) #must take 5.111 or 3.091\n",
    "\n",
    "# sum of HASS classes >= 8\n",
    "sum(isHass[i]*x[i, t] for i in 1:2292, t in 1:8  >= 8 )\n",
    "\n",
    "# No two subjects taken in Spring 2021 overlap in time\n",
    "\n",
    "# No subject is taken prior to its prereq\n",
    "\n",
    "# Student takes 216 units beyond GIRs\n",
    "sum(x[i, t]*courses[i, 3] - 72 for i in 1:2292, t in 1:8 >= 216)\n",
    "\n",
    "# Students cannot take the same subject twice (for dataframe x: rowsum <= one)\n",
    "for i in 1:2292\n",
    "    sum(x[i,t] for t in 1:8 == 1)\n",
    "end\n",
    "\n",
    "# Required, Req, ReqNot specification from student\n",
    "\n",
    "\n",
    "# Maximum and Minimum number of units taken per semester\n",
    "\n",
    "# Soft Constraints (Goal Programming)\n",
    "\n",
    "# Preferred number of units for each semester\n",
    "\n",
    "# Preferred workload (hrs/week)\n"
   ]
  },
  {
   "cell_type": "code",
   "execution_count": null,
   "metadata": {},
   "outputs": [],
   "source": [
    "#"
   ]
  }
 ],
 "metadata": {
  "kernelspec": {
   "display_name": "Julia 1.5.3",
   "language": "julia",
   "name": "julia-1.5"
  },
  "language_info": {
   "file_extension": ".jl",
   "mimetype": "application/julia",
   "name": "julia",
   "version": "1.5.3"
  }
 },
 "nbformat": 4,
 "nbformat_minor": 5
}
