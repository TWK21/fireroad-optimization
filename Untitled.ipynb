{
 "cells": [
  {
   "cell_type": "code",
   "execution_count": 1,
   "id": "reliable-junction",
   "metadata": {},
   "outputs": [
    {
     "ename": "FileNotFoundError",
     "evalue": "[Errno 2] No such file or directory: 'KnapsackData.csv'",
     "output_type": "error",
     "traceback": [
      "\u001b[1;31m---------------------------------------------------------------------------\u001b[0m",
      "\u001b[1;31mFileNotFoundError\u001b[0m                         Traceback (most recent call last)",
      "\u001b[1;32m<ipython-input-1-72579dfb1f63>\u001b[0m in \u001b[0;36m<module>\u001b[1;34m\u001b[0m\n\u001b[0;32m      1\u001b[0m \u001b[1;32mimport\u001b[0m \u001b[0mcsv\u001b[0m\u001b[1;33m\u001b[0m\u001b[1;33m\u001b[0m\u001b[0m\n\u001b[1;32m----> 2\u001b[1;33m \u001b[1;32mwith\u001b[0m \u001b[0mopen\u001b[0m\u001b[1;33m(\u001b[0m\u001b[1;34m'KnapsackData.csv'\u001b[0m\u001b[1;33m,\u001b[0m \u001b[0mnewline\u001b[0m\u001b[1;33m=\u001b[0m\u001b[1;34m''\u001b[0m\u001b[1;33m)\u001b[0m \u001b[1;32mas\u001b[0m \u001b[0mcsvfile\u001b[0m\u001b[1;33m:\u001b[0m\u001b[1;33m\u001b[0m\u001b[1;33m\u001b[0m\u001b[0m\n\u001b[0m\u001b[0;32m      3\u001b[0m     \u001b[0mreader\u001b[0m \u001b[1;33m=\u001b[0m \u001b[0mcsv\u001b[0m\u001b[1;33m.\u001b[0m\u001b[0mDictReader\u001b[0m\u001b[1;33m(\u001b[0m\u001b[0mcsvfile\u001b[0m\u001b[1;33m)\u001b[0m\u001b[1;33m\u001b[0m\u001b[1;33m\u001b[0m\u001b[0m\n\u001b[0;32m      4\u001b[0m     \u001b[0mitem\u001b[0m \u001b[1;33m=\u001b[0m \u001b[1;36m1\u001b[0m\u001b[1;33m\u001b[0m\u001b[1;33m\u001b[0m\u001b[0m\n\u001b[0;32m      5\u001b[0m     \u001b[0mknapsack\u001b[0m \u001b[1;33m=\u001b[0m \u001b[1;33m{\u001b[0m\u001b[1;33m}\u001b[0m\u001b[1;33m\u001b[0m\u001b[1;33m\u001b[0m\u001b[0m\n",
      "\u001b[1;31mFileNotFoundError\u001b[0m: [Errno 2] No such file or directory: 'KnapsackData.csv'"
     ]
    }
   ],
   "source": [
    "import csv\n",
    "with open('KnapsackData.csv', newline='') as csvfile:\n",
    "    reader = csv.DictReader(csvfile)\n",
    "    item = 1\n",
    "    knapsack = {}\n",
    "    for row in reader:\n",
    "        knapsack[item] = (int(row['Value']), int(row['Weight']))\n",
    "        item += 1\n",
    "array = [[0] * 251 for i in range(11)]\n",
    "for j in range(251):\n",
    "    if int(knapsack[10][1]) <= j:\n",
    "        array[10][j] = knapsack[10][0]\n",
    "for i in range(9, 0, -1):\n",
    "    current_weight = knapsack[i][1]\n",
    "    current_value = knapsack[i][0]\n",
    "    for j in range(251):\n",
    "        if j-current_weight >= 0:\n",
    "            array[i][j] = max(array[i+1][j], array[i+1][j-current_weight] + current_value)\n",
    "        else:\n",
    "            array[i][j] = array[i+1][j]\n",
    "best = 0\n",
    "for i in range(9):\n",
    "    for j in range(250):\n",
    "        if array[i][j] > best:\n",
    "            best = array[i][j]\n",
    "print(\"Best knapsack value: \" + str(best))"
   ]
  }
 ],
 "metadata": {
  "kernelspec": {
   "display_name": "Python 3",
   "language": "python",
   "name": "python3"
  },
  "language_info": {
   "codemirror_mode": {
    "name": "ipython",
    "version": 3
   },
   "file_extension": ".py",
   "mimetype": "text/x-python",
   "name": "python",
   "nbconvert_exporter": "python",
   "pygments_lexer": "ipython3",
   "version": "3.8.5"
  }
 },
 "nbformat": 4,
 "nbformat_minor": 5
}
