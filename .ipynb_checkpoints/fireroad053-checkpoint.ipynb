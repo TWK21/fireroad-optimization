{
 "cells": [
  {
   "cell_type": "code",
   "execution_count": 165,
   "id": "fifteen-throw",
   "metadata": {},
   "outputs": [
    {
     "data": {
      "text/plain": [
       "Any[]"
      ]
     },
     "execution_count": 165,
     "metadata": {},
     "output_type": "execute_result"
    }
   ],
   "source": [
    "# Inputs from the student\n",
    "using DataFrames, CSV\n",
    "\n",
    "# current student using the program\n",
    "student = 3\n",
    "\n",
    "# classes the student intends to take\n",
    "required = []\n",
    "\n",
    "# student intends to take subject s in semester t\n",
    "subject = []\n",
    "semester = []\n",
    "\n",
    "# a list of (s,t): subject s students canNOT take in semester t\n",
    "req_not = []\n",
    "\n",
    "# preferences of workload: # of units per sem, # of hours per sem\n",
    "preference = []\n",
    "\n",
    "\n"
   ]
  },
  {
   "cell_type": "code",
   "execution_count": 2,
   "id": "noticed-tuner",
   "metadata": {},
   "outputs": [
    {
     "data": {
      "text/html": [
       "<table class=\"data-frame\"><thead><tr><th></th><th>Student number</th><th>Major</th><th>Semester 1</th><th>Semester 2</th></tr><tr><th></th><th>Int64</th><th>String</th><th>String</th><th>String?</th></tr></thead><tbody><p>6 rows × 10 columns (omitted printing of 6 columns)</p><tr><th>1</th><td>1</td><td>18</td><td>[HASS1, 18.01, 8.01, 5.111]</td><td><em>missing</em></td></tr><tr><th>2</th><td>2</td><td>18</td><td>[HASS1, 18.01, 8.01, 7.012 ]</td><td>[HASS2, 18.02, 18.600, 8.02 ]</td></tr><tr><th>3</th><td>3</td><td>18</td><td>[HASS1, 18.01, 7.012, 5.111]</td><td>[HASS2, 18.02, 18.600, 8.02]</td></tr><tr><th>4</th><td>4</td><td>15-2:6</td><td>[6.0001/6.0002, 8.01, HASS1,18.01]</td><td><em>missing</em></td></tr><tr><th>5</th><td>5</td><td>15-2:6</td><td>[6.0001/6.0002, 3.091, HASS1, 18.01]</td><td>[8.02, 18.02, 7.012, HASS2]</td></tr><tr><th>6</th><td>6</td><td>15-2:6</td><td>[HASS1, 6.0001/6.0002,  18.01, 8.01]</td><td>[HASS2, 15.053, 8.02, 18.02 ]</td></tr></tbody></table>"
      ],
      "text/latex": [
       "\\begin{tabular}{r|ccccc}\n",
       "\t& Student number & Major & Semester 1 & Semester 2 & \\\\\n",
       "\t\\hline\n",
       "\t& Int64 & String & String & String? & \\\\\n",
       "\t\\hline\n",
       "\t1 & 1 & 18 & [HASS1, 18.01, 8.01, 5.111] & \\emph{missing} & $\\dots$ \\\\\n",
       "\t2 & 2 & 18 & [HASS1, 18.01, 8.01, 7.012 ] & [HASS2, 18.02, 18.600, 8.02 ] & $\\dots$ \\\\\n",
       "\t3 & 3 & 18 & [HASS1, 18.01, 7.012, 5.111] & [HASS2, 18.02, 18.600, 8.02] & $\\dots$ \\\\\n",
       "\t4 & 4 & 15-2:6 & [6.0001/6.0002, 8.01, HASS1,18.01] & \\emph{missing} & $\\dots$ \\\\\n",
       "\t5 & 5 & 15-2:6 & [6.0001/6.0002, 3.091, HASS1, 18.01] & [8.02, 18.02, 7.012, HASS2] & $\\dots$ \\\\\n",
       "\t6 & 6 & 15-2:6 & [HASS1, 6.0001/6.0002,  18.01, 8.01] & [HASS2, 15.053, 8.02, 18.02 ] & $\\dots$ \\\\\n",
       "\\end{tabular}\n"
      ],
      "text/plain": [
       "\u001b[1m6×10 DataFrame\u001b[0m\n",
       "\u001b[1m Row \u001b[0m│\u001b[1m Student number \u001b[0m\u001b[1m Major  \u001b[0m\u001b[1m Semester 1                        \u001b[0m\u001b[1m Semester 2  \u001b[0m ⋯\n",
       "\u001b[1m     \u001b[0m│\u001b[90m Int64          \u001b[0m\u001b[90m String \u001b[0m\u001b[90m String                            \u001b[0m\u001b[90m String?     \u001b[0m ⋯\n",
       "─────┼──────────────────────────────────────────────────────────────────────────\n",
       "   1 │              1  18      [HASS1, 18.01, 8.01, 5.111]       \u001b[90m missing     \u001b[0m ⋯\n",
       "   2 │              2  18      [HASS1, 18.01, 8.01, 7.012 ]       [HASS2, 18.0\n",
       "   3 │              3  18      [HASS1, 18.01, 7.012, 5.111]       [HASS2, 18.0\n",
       "   4 │              4  15-2:6  [6.0001/6.0002, 8.01, HASS1,18.0… \u001b[90m missing\u001b[0m\n",
       "   5 │              5  15-2:6  [6.0001/6.0002, 3.091, HASS1, 18…  [8.02, 18.02 ⋯\n",
       "   6 │              6  15-2:6  [HASS1, 6.0001/6.0002,  18.01, 8…  [HASS2, 15.0\n",
       "\u001b[36m                                                               7 columns omitted\u001b[0m"
      ]
     },
     "execution_count": 2,
     "metadata": {},
     "output_type": "execute_result"
    }
   ],
   "source": [
    "# Importing the courses the student has already taken\n",
    "using DataFrames, CSV\n",
    "\n",
    "example_students = CSV.read(\"ExampleStudents.csv\", DataFrame)\n",
    "example_students"
   ]
  },
  {
   "cell_type": "code",
   "execution_count": 99,
   "id": "spectacular-penguin",
   "metadata": {},
   "outputs": [],
   "source": [
    "# courses already taken by the student \n",
    "completed_courses = []\n",
    "for i in 3:10\n",
    "    if typeof(example_students[student, i]) != Missing\n",
    "        classes  = replace(replace(example_students[student, i], \"[\"=>\"\"), \"]\"=>\"\") #remove \"[\" and \"]\"\" from the string\n",
    "        classes = replace(classes, \" \"=>\"\") #remove spaces from string\n",
    "        classes = split(classes, \",\") #split the string into individual classes\n",
    "        semester = i - 2 #calculate the semester associated with the class\n",
    "        for class in classes\n",
    "            list = [class, semester]\n",
    "            push!(completed_courses, list) #store completed course with semester taken in inside completed_courses\n",
    "        end\n",
    "    end\n",
    "end\n",
    "\n",
    "# compute the student's current term\n",
    "completed_terms = 0\n",
    "for i in 3:10\n",
    "    if typeof(example_students[student, i]) != Missing\n",
    "        completed_terms += 1\n",
    "    end\n",
    "end\n",
    "# current_term = 1 + completed_terms"
   ]
  },
  {
   "cell_type": "code",
   "execution_count": 94,
   "id": "becoming-kingdom",
   "metadata": {},
   "outputs": [
    {
     "data": {
      "text/html": [
       "<table class=\"data-frame\"><thead><tr><th></th><th>Column1</th><th>ID</th><th>Units</th><th>Course</th><th>Prereqs</th></tr><tr><th></th><th>Int64</th><th>String</th><th>Int64</th><th>Int64</th><th>String?</th></tr></thead><tbody><p>42 rows × 14 columns (omitted printing of 9 columns)</p><tr><th>1</th><td>0</td><td>HASS1</td><td>12</td><td>0</td><td><em>missing</em></td></tr><tr><th>2</th><td>1</td><td>HASS2</td><td>12</td><td>0</td><td><em>missing</em></td></tr><tr><th>3</th><td>2</td><td>HASS3</td><td>12</td><td>0</td><td><em>missing</em></td></tr><tr><th>4</th><td>3</td><td>HASS4</td><td>12</td><td>0</td><td><em>missing</em></td></tr><tr><th>5</th><td>4</td><td>HASS5</td><td>12</td><td>0</td><td><em>missing</em></td></tr><tr><th>6</th><td>5</td><td>HASS6</td><td>12</td><td>0</td><td><em>missing</em></td></tr><tr><th>7</th><td>6</td><td>HASS7</td><td>12</td><td>0</td><td><em>missing</em></td></tr><tr><th>8</th><td>7</td><td>HASS8</td><td>12</td><td>0</td><td><em>missing</em></td></tr><tr><th>9</th><td>8</td><td>GIR:CAL1</td><td>12</td><td>0</td><td><em>missing</em></td></tr><tr><th>10</th><td>9</td><td>GIR:CAL2</td><td>12</td><td>0</td><td><em>missing</em></td></tr><tr><th>11</th><td>10</td><td>GIR:PHY1</td><td>12</td><td>0</td><td><em>missing</em></td></tr><tr><th>12</th><td>11</td><td>GIR:PHY2</td><td>12</td><td>0</td><td><em>missing</em></td></tr><tr><th>13</th><td>12</td><td>GIR:CHEM</td><td>12</td><td>0</td><td><em>missing</em></td></tr><tr><th>14</th><td>13</td><td>GIR:BIO</td><td>12</td><td>0</td><td><em>missing</em></td></tr><tr><th>15</th><td>14</td><td>15.0251</td><td>9</td><td>15</td><td>14.01 or 15.0111</td></tr><tr><th>16</th><td>15</td><td>15.0341</td><td>9</td><td>15</td><td><em>missing</em></td></tr><tr><th>17</th><td>16</td><td>15.053</td><td>12</td><td>15</td><td>1.00, 1.000, 6.0001, or permission of instructor</td></tr><tr><th>18</th><td>17</td><td>15.075</td><td>12</td><td>15</td><td>6.041B or 15.0791</td></tr><tr><th>19</th><td>18</td><td>15.276</td><td>12</td><td>15</td><td><em>missing</em></td></tr><tr><th>20</th><td>19</td><td>15.501</td><td>12</td><td>15</td><td><em>missing</em></td></tr><tr><th>21</th><td>20</td><td>18.03</td><td>12</td><td>18</td><td>[GIR:CAL2]</td></tr><tr><th>22</th><td>21</td><td>18.04</td><td>12</td><td>18</td><td>GIR:CAL2 and (18.03 or 18.032)</td></tr><tr><th>23</th><td>22</td><td>18.06</td><td>12</td><td>18</td><td>GIR:CAL2</td></tr><tr><th>24</th><td>23</td><td>18.204</td><td>12</td><td>18</td><td>((6.042 or 18.200) and (18.06, 18.700, or 18.701)) or permission of instructor</td></tr><tr><th>25</th><td>24</td><td>18.3</td><td>12</td><td>18</td><td>GIR:CAL2 and (18.03 or 18.032)</td></tr><tr><th>26</th><td>25</td><td>18.303</td><td>12</td><td>18</td><td>18.06 or 18.700</td></tr><tr><th>27</th><td>26</td><td>18.33</td><td>12</td><td>18</td><td>GIR:CAL2 and (18.03 or 18.032)</td></tr><tr><th>28</th><td>27</td><td>18.6</td><td>12</td><td>18</td><td>GIR:CAL2</td></tr><tr><th>29</th><td>28</td><td>6.0001</td><td>6</td><td>6</td><td><em>missing</em></td></tr><tr><th>30</th><td>29</td><td>6.0002</td><td>6</td><td>6</td><td>6.0001 or permission of instructor</td></tr><tr><th>&vellip;</th><td>&vellip;</td><td>&vellip;</td><td>&vellip;</td><td>&vellip;</td><td>&vellip;</td></tr></tbody></table>"
      ],
      "text/latex": [
       "\\begin{tabular}{r|cccccc}\n",
       "\t& Column1 & ID & Units & Course & Prereqs & \\\\\n",
       "\t\\hline\n",
       "\t& Int64 & String & Int64 & Int64 & String? & \\\\\n",
       "\t\\hline\n",
       "\t1 & 0 & HASS1 & 12 & 0 & \\emph{missing} & $\\dots$ \\\\\n",
       "\t2 & 1 & HASS2 & 12 & 0 & \\emph{missing} & $\\dots$ \\\\\n",
       "\t3 & 2 & HASS3 & 12 & 0 & \\emph{missing} & $\\dots$ \\\\\n",
       "\t4 & 3 & HASS4 & 12 & 0 & \\emph{missing} & $\\dots$ \\\\\n",
       "\t5 & 4 & HASS5 & 12 & 0 & \\emph{missing} & $\\dots$ \\\\\n",
       "\t6 & 5 & HASS6 & 12 & 0 & \\emph{missing} & $\\dots$ \\\\\n",
       "\t7 & 6 & HASS7 & 12 & 0 & \\emph{missing} & $\\dots$ \\\\\n",
       "\t8 & 7 & HASS8 & 12 & 0 & \\emph{missing} & $\\dots$ \\\\\n",
       "\t9 & 8 & GIR:CAL1 & 12 & 0 & \\emph{missing} & $\\dots$ \\\\\n",
       "\t10 & 9 & GIR:CAL2 & 12 & 0 & \\emph{missing} & $\\dots$ \\\\\n",
       "\t11 & 10 & GIR:PHY1 & 12 & 0 & \\emph{missing} & $\\dots$ \\\\\n",
       "\t12 & 11 & GIR:PHY2 & 12 & 0 & \\emph{missing} & $\\dots$ \\\\\n",
       "\t13 & 12 & GIR:CHEM & 12 & 0 & \\emph{missing} & $\\dots$ \\\\\n",
       "\t14 & 13 & GIR:BIO & 12 & 0 & \\emph{missing} & $\\dots$ \\\\\n",
       "\t15 & 14 & 15.0251 & 9 & 15 & 14.01 or 15.0111 & $\\dots$ \\\\\n",
       "\t16 & 15 & 15.0341 & 9 & 15 & \\emph{missing} & $\\dots$ \\\\\n",
       "\t17 & 16 & 15.053 & 12 & 15 & 1.00, 1.000, 6.0001, or permission of instructor & $\\dots$ \\\\\n",
       "\t18 & 17 & 15.075 & 12 & 15 & 6.041B or 15.0791 & $\\dots$ \\\\\n",
       "\t19 & 18 & 15.276 & 12 & 15 & \\emph{missing} & $\\dots$ \\\\\n",
       "\t20 & 19 & 15.501 & 12 & 15 & \\emph{missing} & $\\dots$ \\\\\n",
       "\t21 & 20 & 18.03 & 12 & 18 & [GIR:CAL2] & $\\dots$ \\\\\n",
       "\t22 & 21 & 18.04 & 12 & 18 & GIR:CAL2 and (18.03 or 18.032) & $\\dots$ \\\\\n",
       "\t23 & 22 & 18.06 & 12 & 18 & GIR:CAL2 & $\\dots$ \\\\\n",
       "\t24 & 23 & 18.204 & 12 & 18 & ((6.042 or 18.200) and (18.06, 18.700, or 18.701)) or permission of instructor & $\\dots$ \\\\\n",
       "\t25 & 24 & 18.3 & 12 & 18 & GIR:CAL2 and (18.03 or 18.032) & $\\dots$ \\\\\n",
       "\t26 & 25 & 18.303 & 12 & 18 & 18.06 or 18.700 & $\\dots$ \\\\\n",
       "\t27 & 26 & 18.33 & 12 & 18 & GIR:CAL2 and (18.03 or 18.032) & $\\dots$ \\\\\n",
       "\t28 & 27 & 18.6 & 12 & 18 & GIR:CAL2 & $\\dots$ \\\\\n",
       "\t29 & 28 & 6.0001 & 6 & 6 & \\emph{missing} & $\\dots$ \\\\\n",
       "\t30 & 29 & 6.0002 & 6 & 6 & 6.0001 or permission of instructor & $\\dots$ \\\\\n",
       "\t$\\dots$ & $\\dots$ & $\\dots$ & $\\dots$ & $\\dots$ & $\\dots$ &  \\\\\n",
       "\\end{tabular}\n"
      ],
      "text/plain": [
       "\u001b[1m42×14 DataFrame\u001b[0m\n",
       "\u001b[1m Row \u001b[0m│\u001b[1m Column1 \u001b[0m\u001b[1m ID       \u001b[0m\u001b[1m Units \u001b[0m\u001b[1m Course \u001b[0m\u001b[1m Prereqs                           \u001b[0m\u001b[1m Se\u001b[0m ⋯\n",
       "\u001b[1m     \u001b[0m│\u001b[90m Int64   \u001b[0m\u001b[90m String   \u001b[0m\u001b[90m Int64 \u001b[0m\u001b[90m Int64  \u001b[0m\u001b[90m String?                           \u001b[0m\u001b[90m St\u001b[0m ⋯\n",
       "─────┼──────────────────────────────────────────────────────────────────────────\n",
       "   1 │       0  HASS1        12       0 \u001b[90m missing                           \u001b[0m [' ⋯\n",
       "   2 │       1  HASS2        12       0 \u001b[90m missing                           \u001b[0m ['\n",
       "   3 │       2  HASS3        12       0 \u001b[90m missing                           \u001b[0m ['\n",
       "   4 │       3  HASS4        12       0 \u001b[90m missing                           \u001b[0m ['\n",
       "   5 │       4  HASS5        12       0 \u001b[90m missing                           \u001b[0m [' ⋯\n",
       "   6 │       5  HASS6        12       0 \u001b[90m missing                           \u001b[0m ['\n",
       "   7 │       6  HASS7        12       0 \u001b[90m missing                           \u001b[0m ['\n",
       "   8 │       7  HASS8        12       0 \u001b[90m missing                           \u001b[0m ['\n",
       "   9 │       8  GIR:CAL1     12       0 \u001b[90m missing                           \u001b[0m [' ⋯\n",
       "  10 │       9  GIR:CAL2     12       0 \u001b[90m missing                           \u001b[0m ['\n",
       "  11 │      10  GIR:PHY1     12       0 \u001b[90m missing                           \u001b[0m ['\n",
       "  ⋮  │    ⋮        ⋮        ⋮      ⋮                     ⋮                     ⋱\n",
       "  33 │      32  6.009        12       6  6.0001                             ['\n",
       "  34 │      33  6.036        12       6  GIR:CAL2 and (6.0001 or 6.01)      [' ⋯\n",
       "  35 │      34  6.041        12       6  GIR:CAL2                           ['\n",
       "  36 │      35  6.042        12       6  GIR:CAL1                           ['\n",
       "  37 │      36  6.046        12       6  6.006                              ['\n",
       "  38 │      37  15.093       12      15  18.06                              [' ⋯\n",
       "  39 │      38  15.312       12      15 \u001b[90m missing                           \u001b[0m ['\n",
       "  40 │      39  15.78        12      15  6.041B, 15.0791, or permission o…  ['\n",
       "  41 │      40  18.200A      12      18  18.06                              ['\n",
       "  42 │      41  6.034        12       6  6.0001                             [' ⋯\n",
       "\u001b[36m                                                   9 columns and 21 rows omitted\u001b[0m"
      ]
     },
     "execution_count": 94,
     "metadata": {},
     "output_type": "execute_result"
    }
   ],
   "source": [
    "# Importing the courses\n",
    "using DataFrames, CSV\n",
    "\n",
    "# all available courses\n",
    "courses = CSV.read(\"courses.csv\", DataFrame)\n",
    "courses"
   ]
  },
  {
   "cell_type": "code",
   "execution_count": 100,
   "id": "broke-substance",
   "metadata": {},
   "outputs": [],
   "source": [
    "for class in required\n",
    "    for i in 1:42\n",
    "        if courses[i, 2] == class\n",
    "            println(courses[i, 1])\n",
    "        end\n",
    "    end\n",
    "end"
   ]
  },
  {
   "cell_type": "code",
   "execution_count": 5,
   "id": "rough-evidence",
   "metadata": {},
   "outputs": [
    {
     "data": {
      "text/plain": [
       "Dict{Any,Any} with 22 entries:\n",
       "  \"18.6\"    => Any[\"GIR:CAL2\"]\n",
       "  \"15.053\"  => Any[\"1.00 or 1.000 or 6.0001\"]\n",
       "  \"18.04\"   => Any[\"GIR:CAL2\", \"18.03 or 18.032\"]\n",
       "  \"18.303\"  => Any[\"18.06 or 18.700\"]\n",
       "  \"6.042\"   => Any[\"GIR:CAL1\"]\n",
       "  \"15.093\"  => Any[\"18.06\"]\n",
       "  \"18.33\"   => Any[\"GIR:CAL2\", \"18.03 or 18.032\"]\n",
       "  \"6.006\"   => Any[\"6.042\", \"6.0001 or [6.009]\"]\n",
       "  \"15.0251\" => Any[\"14.01 or 15.0111\"]\n",
       "  \"6.046\"   => Any[\"6.006\"]\n",
       "  \"18.06\"   => Any[\"GIR:CAL2\"]\n",
       "  \"6.036\"   => Any[\"GIR:CAL2\", \"6.0001 or 6.01\"]\n",
       "  \"6.041\"   => Any[\"GIR:CAL2\"]\n",
       "  \"6.0002\"  => Any[\"6.0001\"]\n",
       "  \"18.03\"   => Any[\"[GIR:CAL2]\"]\n",
       "  \"6.004\"   => Any[\"GIR:PHY2\", \"6.0001\"]\n",
       "  \"6.009\"   => Any[\"6.0001\"]\n",
       "  \"15.78\"   => Any[\"6.041B or 15.0791\"]\n",
       "  \"18.204\"  => Any[\"6.042 or 18.200\", \"18.06, 18.700, or 18.701\"]\n",
       "  \"18.200A\" => Any[\"18.06\"]\n",
       "  \"18.3\"    => Any[\"GIR:CAL2\", \"18.03 or 18.032\"]\n",
       "  \"15.075\"  => Any[\"6.041B or 15.0791\"]"
      ]
     },
     "execution_count": 5,
     "metadata": {},
     "output_type": "execute_result"
    }
   ],
   "source": [
    "#pull prereqs from csv\n",
    "prereqs = Dict()\n",
    "for i in 1:41\n",
    "    prereq_list = []\n",
    "    if typeof(courses[i, 5]) != Missing\n",
    "        #ignore permission prereqs\n",
    "        prereq = courses[i, 5]\n",
    "        if occursin(\", or permission of instructor\", prereq)\n",
    "            prereq  = replace(prereq, \", or permission of instructor\"=>\"\")\n",
    "            prereq = replace(prereq, \", \" => \" or \", )\n",
    "        end\n",
    "        prereq  = replace(prereq, \" or permission of instructor\"=>\"\")\n",
    "        prereq  = replace(replace(prereq, \"(\"=>\"\"), \")\"=> \"\")\n",
    "        prereq = split(prereq, \" and \") #split the string into individual classes\n",
    "        append!(prereq_list, prereq)\n",
    "        prereqs[courses[i,2]] = prereq_list\n",
    "    end\n",
    "end\n",
    "prereqs"
   ]
  },
  {
   "cell_type": "code",
   "execution_count": null,
   "id": "worst-enough",
   "metadata": {},
   "outputs": [],
   "source": []
  },
  {
   "cell_type": "code",
   "execution_count": 175,
   "id": "convertible-chassis",
   "metadata": {},
   "outputs": [
    {
     "name": "stdout",
     "output_type": "stream",
     "text": [
      "Academic license - for non-commercial use only - expires 2021-07-04\r\n",
      "Gurobi Optimizer version 9.1.1 build v9.1.1rc0 (win64)\r\n",
      "Thread count: 4 physical cores, 8 logical processors, using up to 8 threads\r\n",
      "Optimize a model with 61 rows, 336 columns and 1210 nonzeros\r\n",
      "Model fingerprint: 0x0b8eeb31\r\n",
      "Variable types: 0 continuous, 336 integer (336 binary)\r\n",
      "Coefficient statistics:\r\n",
      "  Matrix range     [1e+00, 1e+01]\r\n",
      "  Objective range  [5e+00, 1e+01]\r\n",
      "  Bounds range     [0e+00, 0e+00]\r\n",
      "  RHS range        [1e+00, 3e+02]\r\n",
      "Presolve removed 17 rows and 48 columns\r\n",
      "Presolve time: 0.00s\r\n",
      "Presolved: 44 rows, 288 columns, 576 nonzeros\r\n",
      "Variable types: 0 continuous, 288 integer (288 binary)\r\n",
      "\r\n",
      "Root relaxation: infeasible, 45 iterations, 0.00 seconds\r\n",
      "\r\n",
      "    Nodes    |    Current Node    |     Objective Bounds      |     Work\r\n",
      " Expl Unexpl |  Obj  Depth IntInf | Incumbent    BestBd   Gap | It/Node Time\r\n",
      "\r\n",
      "     0     0 infeasible    0               - infeasible      -     -    0s\r\n",
      "\r\n",
      "Explored 0 nodes (45 simplex iterations) in 0.02 seconds\r\n",
      "Thread count was 8 (of 8 available processors)\r\n",
      "\r\n",
      "Solution count 0\r\n",
      "No other solutions better than -1e+100\r\n",
      "\r\n",
      "Model is infeasible or unbounded\r\n",
      "Best objective -, best bound -, gap -\r\n",
      "\r\n",
      "User-callback calls 48, time in user-callback 0.00 sec\r\n"
     ]
    }
   ],
   "source": [
    "# --- Model specification\n",
    "using JuMP, DataFrames, Gurobi\n",
    "\n",
    "# Model\n",
    "model = Model(with_optimizer(Gurobi.Optimizer))\n",
    "\n",
    "# Decision variables\n",
    "# x(s,t): subject s is taken in semester t\n",
    "@variable(model, x[1:42, 1:8], Bin)\n",
    "\n",
    "# Objective Function\n",
    "# Maximize the total utility of the subjects taken\n",
    "@objective(model, Max, sum(courses[i, 9]*x[i, j] for i in 1:42, j in 1:8))\n",
    "\n",
    "# Force classes that have already been taken into appropriate places in schedule\n",
    "for list in completed_courses\n",
    "    course = list[1]\n",
    "    semester = list[2]\n",
    "    for i in 1:42\n",
    "        if courses[i, 2] == course\n",
    "            @constraint(model, x[i, semester] == 1)\n",
    "        end\n",
    "    end\n",
    "end\n",
    "\n",
    "# Constraints\n",
    "# Need all 6 GIRs\n",
    "@constraint(model, sum(courses[i, 7]*x[i,j] for i in 1:42, j in 1:8) == 6)\n",
    "\n",
    "# At least 8 HASS classes\n",
    "@constraint(model, sum(courses[i,8]*x[i, j] for i in 1:42, j in 1:8) >= 8)\n",
    "\n",
    "# No two subjects taken in Spring 2021 overlap in time\n",
    "# Logic: If two time ranges overlap, then there exists some number C which is in both ranges (x1, x2) and (y1, y2), i.e.\n",
    "# x1 <= C <= x2 and y1 <= C <= y2\n",
    "# Therefore if we want to avoid overlap, then we just need to test that x1 <= y2 and y1 <= x2\n",
    "\n",
    "\n",
    "# No subject is taken prior to its prereq NEED TO ADD IN LATER\n",
    "# for j in 1:8\n",
    "#     @constraint(model, x[14,j] < (sum(x[s, t] for t in 1:j-1)))\n",
    "#     @constraint(model, x[i,j] < (sum(x[s, t] for t in 1:j-1)))\n",
    "#     @constraint(model, x[i,j] < (sum(x[s, t] for t in 1:j-1)))\n",
    "#     @constraint(model, x[i,j] < (sum(x[s, t] for t in 1:j-1)))\n",
    "# end\n",
    "\n",
    "# Can only take max of 4 classes each semester\n",
    "for j in 1:8\n",
    "    @constraint(model, sum(x[i, j] for i in 1:42) <= 4)\n",
    "end\n",
    "\n",
    "# Freshman Fall credit limit\n",
    "@constraint(model, sum(x[i, 1]*courses[i, 3] for i in 1:42) <= 48)\n",
    "\n",
    "# Freshman Spring credit limit\n",
    "@constraint(model, sum(x[i, 2]*courses[i, 3] for i in 1:42) <= 60)\n",
    "\n",
    "# Student takes 216 units beyond GIRs\n",
    "@constraint(model, sum(x[i, j]*courses[i, 3] for i in 1:42, j in 1:8) - 72 >= 216)\n",
    "\n",
    "# Students cannot take the same subject twice (for dataframe x: rowsum <= one)\n",
    "for i in 1:42\n",
    "    @constraint(model, sum(x[i,j] for j in 1:8) == 1)\n",
    "end\n",
    "\n",
    "# Maximum and Minimum number of units taken per semester\n",
    "\n",
    "# Soft Constraints (Goal Programming):\n",
    "\n",
    "# Required specification from student CHANGE TO SOFT CONSTRAINT\n",
    "for class in required\n",
    "    for i in 1:42\n",
    "        if courses[i, 2] == class\n",
    "            @constraint(model, sum(x[i,j] for j in 1:8) == 1)\n",
    "        end\n",
    "    end\n",
    "end\n",
    "\n",
    "# ReqNot specification from student CHANGE TO SOFT CONSTRAINT\n",
    "for class in req_not\n",
    "    for i in 1:42\n",
    "        if courses[i, 2] == class\n",
    "            @constraint(model, sum(x[i,j] for j in 1:8) == 0)\n",
    "        end\n",
    "    end\n",
    "end\n",
    "\n",
    "# Preferred number of units for each semester\n",
    "\n",
    "# Preferred workload (hrs/week)\n",
    "optimize!(model)"
   ]
  },
  {
   "cell_type": "code",
   "execution_count": 172,
   "id": "incredible-holocaust",
   "metadata": {},
   "outputs": [
    {
     "ename": "LoadError",
     "evalue": "\u001b[91mResult index of attribute MathOptInterface.ObjectiveValue(1) out of bounds. There are currently 0 solution(s) in the model.\u001b[39m",
     "output_type": "error",
     "traceback": [
      "\u001b[91mResult index of attribute MathOptInterface.ObjectiveValue(1) out of bounds. There are currently 0 solution(s) in the model.\u001b[39m",
      "",
      "Stacktrace:",
      " [1] check_result_index_bounds at C:\\Users\\Audrey Chen\\.julia\\packages\\MathOptInterface\\5WwpK\\src\\attributes.jl:139 [inlined]",
      " [2] get(::Gurobi.Optimizer, ::MathOptInterface.ObjectiveValue) at C:\\Users\\Audrey Chen\\.julia\\packages\\Gurobi\\qk7lG\\src\\MOI_wrapper.jl:2772",
      " [3] get(::MathOptInterface.Bridges.LazyBridgeOptimizer{Gurobi.Optimizer}, ::MathOptInterface.ObjectiveValue) at C:\\Users\\Audrey Chen\\.julia\\packages\\MathOptInterface\\5WwpK\\src\\Bridges\\bridge_optimizer.jl:816",
      " [4] get(::MathOptInterface.Utilities.CachingOptimizer{MathOptInterface.AbstractOptimizer,MathOptInterface.Utilities.UniversalFallback{MathOptInterface.Utilities.Model{Float64}}}, ::MathOptInterface.ObjectiveValue) at C:\\Users\\Audrey Chen\\.julia\\packages\\MathOptInterface\\5WwpK\\src\\Utilities\\cachingoptimizer.jl:706",
      " [5] _moi_get_result(::MathOptInterface.Utilities.CachingOptimizer{MathOptInterface.AbstractOptimizer,MathOptInterface.Utilities.UniversalFallback{MathOptInterface.Utilities.Model{Float64}}}, ::MathOptInterface.ObjectiveValue) at C:\\Users\\Audrey Chen\\.julia\\packages\\JuMP\\iGamg\\src\\JuMP.jl:605",
      " [6] get(::Model, ::MathOptInterface.ObjectiveValue) at C:\\Users\\Audrey Chen\\.julia\\packages\\JuMP\\iGamg\\src\\JuMP.jl:618",
      " [7] objective_value(::Model) at C:\\Users\\Audrey Chen\\.julia\\packages\\JuMP\\iGamg\\src\\objective.jl:25",
      " [8] top-level scope at In[172]:1",
      " [9] include_string(::Function, ::Module, ::String, ::String) at .\\loading.jl:1091"
     ]
    }
   ],
   "source": [
    "print(objective_value(model))\n",
    "print(value.(x))"
   ]
  },
  {
   "cell_type": "code",
   "execution_count": 168,
   "id": "graduate-holly",
   "metadata": {},
   "outputs": [
    {
     "name": "stdout",
     "output_type": "stream",
     "text": [
      "Semester 1Any[\"HASS1\"]\n",
      "Semester 2Any[\"HASS2\"]\n",
      "Semester 3Any[\"HASS3\", \"GIR:CAL2\"]\n",
      "Semester 4Any[\"HASS4\", \"18.04\", \"18.06\", \"6.004\", \"6.041\", \"6.042\", \"6.046\", \"15.093\"]\n",
      "Semester 5Any[\"HASS5\", \"GIR:CHEM\", \"18.303\"]\n",
      "Semester 6Any[\"HASS6\", \"HASS7\", \"GIR:PHY1\", \"15.0251\", \"15.075\", \"15.501\", \"18.03\", \"6.009\", \"6.036\"]\n",
      "Semester 7Any[\"HASS8\", \"GIR:CAL1\"]\n",
      "Semester 8Any[\"GIR:PHY2\", \"GIR:BIO\", \"15.0341\", \"15.053\", \"15.276\", \"18.204\", \"18.3\", \"18.33\", \"18.6\", \"6.0001\", \"6.0002\", \"6.006\", \"15.312\", \"15.78\", \"18.200A\", \"6.034\"]\n"
     ]
    }
   ],
   "source": [
    "for j in 1:8\n",
    "    list = []\n",
    "    for i in 1:42\n",
    "        if value.(x[i, j]) == 1.0\n",
    "            push!(list, courses[i, 2])\n",
    "        end\n",
    "    end\n",
    "    println(\"Semester \", j, list)\n",
    "end"
   ]
  },
  {
   "cell_type": "code",
   "execution_count": null,
   "id": "banned-ozone",
   "metadata": {},
   "outputs": [],
   "source": []
  }
 ],
 "metadata": {
  "kernelspec": {
   "display_name": "Julia 1.5.3",
   "language": "julia",
   "name": "julia-1.5"
  },
  "language_info": {
   "file_extension": ".jl",
   "mimetype": "application/julia",
   "name": "julia",
   "version": "1.5.3"
  }
 },
 "nbformat": 4,
 "nbformat_minor": 5
}
