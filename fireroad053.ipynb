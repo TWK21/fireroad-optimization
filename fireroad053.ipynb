{
 "cells": [
  {
   "cell_type": "code",
   "execution_count": 4,
   "id": "romance-freeze",
   "metadata": {},
   "outputs": [
    {
     "data": {
      "text/html": [
       "<table class=\"data-frame\"><thead><tr><th></th><th>Column1</th><th>ID</th><th>Units</th><th>Course</th><th>Prereqs</th></tr><tr><th></th><th>Int64</th><th>String</th><th>Int64</th><th>String</th><th>String?</th></tr></thead><tbody><p>2,292 rows × 6 columns (omitted printing of 1 columns)</p><tr><th>1</th><td>0</td><td>1.00</td><td>12</td><td>1</td><td>GIR:CAL1</td></tr><tr><th>2</th><td>1</td><td>1.001</td><td>12</td><td>1</td><td>GIR:CAL1</td></tr><tr><th>3</th><td>2</td><td>1.004</td><td>12</td><td>1</td><td><em>missing</em></td></tr><tr><th>4</th><td>3</td><td>1.006</td><td>12</td><td>1</td><td><em>missing</em></td></tr><tr><th>5</th><td>4</td><td>1.013</td><td>6</td><td>1</td><td>Permission of instructor</td></tr><tr><th>6</th><td>5</td><td>1.015</td><td>12</td><td>1</td><td>2.003, 2.016, and 2.678; [2.671]</td></tr><tr><th>7</th><td>6</td><td>1.016</td><td>9</td><td>1</td><td><em>missing</em></td></tr><tr><th>8</th><td>7</td><td>1.020</td><td>12</td><td>1</td><td>GIR:PHY1, 18.03, and (1.00 or 1.000)</td></tr><tr><th>9</th><td>8</td><td>1.021</td><td>12</td><td>1</td><td>18.03, 3.016B, or permission of instructor</td></tr><tr><th>10</th><td>9</td><td>1.024</td><td>6</td><td>1</td><td>(1.000 and 1.010) or permission of instructor; [6.402]</td></tr><tr><th>11</th><td>10</td><td>1.035</td><td>12</td><td>1</td><td>1.050 or permission of instructor</td></tr><tr><th>12</th><td>11</td><td>1.036</td><td>12</td><td>1</td><td>1.035 and 1.050</td></tr><tr><th>13</th><td>12</td><td>1.037</td><td>12</td><td>1</td><td><em>missing</em></td></tr><tr><th>14</th><td>13</td><td>1.053</td><td>12</td><td>1</td><td>GIR:PHY2; [2.087 or 18.03]</td></tr><tr><th>15</th><td>14</td><td>1.056</td><td>12</td><td>1</td><td>GIR:CAL2</td></tr><tr><th>16</th><td>15</td><td>1.060</td><td>12</td><td>1</td><td><em>missing</em></td></tr><tr><th>17</th><td>16</td><td>1.060A</td><td>6</td><td>1</td><td>[18.03]; or permission of instructor</td></tr><tr><th>18</th><td>17</td><td>1.062</td><td>12</td><td>1</td><td>GIR:PHY2 and (18.03 or 18.032)</td></tr><tr><th>19</th><td>18</td><td>1.071</td><td>12</td><td>1</td><td>18.03</td></tr><tr><th>20</th><td>19</td><td>1.072</td><td>12</td><td>1</td><td>1.061</td></tr><tr><th>21</th><td>20</td><td>1.075</td><td>12</td><td>1</td><td>1.070B or permission of instructor</td></tr><tr><th>22</th><td>21</td><td>1.080</td><td>12</td><td>1</td><td>GIR:CHEM</td></tr><tr><th>23</th><td>22</td><td>1.081</td><td>12</td><td>1</td><td>GIR:BIOL, GIR:CAL2, and GIR:CHEM</td></tr><tr><th>24</th><td>23</td><td>1.082</td><td>6</td><td>1</td><td><em>missing</em></td></tr><tr><th>25</th><td>24</td><td>1.088</td><td>12</td><td>1</td><td>GIR:BIOL and (1.000 or 6.0002)</td></tr><tr><th>26</th><td>25</td><td>1.106</td><td>6</td><td>1</td><td>[1.061A]</td></tr><tr><th>27</th><td>26</td><td>1.107</td><td>6</td><td>1</td><td>[1.080]</td></tr><tr><th>28</th><td>27</td><td>1.138</td><td>12</td><td>1</td><td>2.003 and 18.075</td></tr><tr><th>29</th><td>28</td><td>1.142</td><td>12</td><td>1</td><td>18.06 or permission of instructor</td></tr><tr><th>30</th><td>29</td><td>1.147</td><td>12</td><td>1</td><td><em>missing</em></td></tr><tr><th>&vellip;</th><td>&vellip;</td><td>&vellip;</td><td>&vellip;</td><td>&vellip;</td><td>&vellip;</td></tr></tbody></table>"
      ],
      "text/latex": [
       "\\begin{tabular}{r|cccccc}\n",
       "\t& Column1 & ID & Units & Course & Prereqs & \\\\\n",
       "\t\\hline\n",
       "\t& Int64 & String & Int64 & String & String? & \\\\\n",
       "\t\\hline\n",
       "\t1 & 0 & 1.00 & 12 & 1 & GIR:CAL1 & $\\dots$ \\\\\n",
       "\t2 & 1 & 1.001 & 12 & 1 & GIR:CAL1 & $\\dots$ \\\\\n",
       "\t3 & 2 & 1.004 & 12 & 1 & \\emph{missing} & $\\dots$ \\\\\n",
       "\t4 & 3 & 1.006 & 12 & 1 & \\emph{missing} & $\\dots$ \\\\\n",
       "\t5 & 4 & 1.013 & 6 & 1 & Permission of instructor & $\\dots$ \\\\\n",
       "\t6 & 5 & 1.015 & 12 & 1 & 2.003, 2.016, and 2.678; [2.671] & $\\dots$ \\\\\n",
       "\t7 & 6 & 1.016 & 9 & 1 & \\emph{missing} & $\\dots$ \\\\\n",
       "\t8 & 7 & 1.020 & 12 & 1 & GIR:PHY1, 18.03, and (1.00 or 1.000) & $\\dots$ \\\\\n",
       "\t9 & 8 & 1.021 & 12 & 1 & 18.03, 3.016B, or permission of instructor & $\\dots$ \\\\\n",
       "\t10 & 9 & 1.024 & 6 & 1 & (1.000 and 1.010) or permission of instructor; [6.402] & $\\dots$ \\\\\n",
       "\t11 & 10 & 1.035 & 12 & 1 & 1.050 or permission of instructor & $\\dots$ \\\\\n",
       "\t12 & 11 & 1.036 & 12 & 1 & 1.035 and 1.050 & $\\dots$ \\\\\n",
       "\t13 & 12 & 1.037 & 12 & 1 & \\emph{missing} & $\\dots$ \\\\\n",
       "\t14 & 13 & 1.053 & 12 & 1 & GIR:PHY2; [2.087 or 18.03] & $\\dots$ \\\\\n",
       "\t15 & 14 & 1.056 & 12 & 1 & GIR:CAL2 & $\\dots$ \\\\\n",
       "\t16 & 15 & 1.060 & 12 & 1 & \\emph{missing} & $\\dots$ \\\\\n",
       "\t17 & 16 & 1.060A & 6 & 1 & [18.03]; or permission of instructor & $\\dots$ \\\\\n",
       "\t18 & 17 & 1.062 & 12 & 1 & GIR:PHY2 and (18.03 or 18.032) & $\\dots$ \\\\\n",
       "\t19 & 18 & 1.071 & 12 & 1 & 18.03 & $\\dots$ \\\\\n",
       "\t20 & 19 & 1.072 & 12 & 1 & 1.061 & $\\dots$ \\\\\n",
       "\t21 & 20 & 1.075 & 12 & 1 & 1.070B or permission of instructor & $\\dots$ \\\\\n",
       "\t22 & 21 & 1.080 & 12 & 1 & GIR:CHEM & $\\dots$ \\\\\n",
       "\t23 & 22 & 1.081 & 12 & 1 & GIR:BIOL, GIR:CAL2, and GIR:CHEM & $\\dots$ \\\\\n",
       "\t24 & 23 & 1.082 & 6 & 1 & \\emph{missing} & $\\dots$ \\\\\n",
       "\t25 & 24 & 1.088 & 12 & 1 & GIR:BIOL and (1.000 or 6.0002) & $\\dots$ \\\\\n",
       "\t26 & 25 & 1.106 & 6 & 1 & [1.061A] & $\\dots$ \\\\\n",
       "\t27 & 26 & 1.107 & 6 & 1 & [1.080] & $\\dots$ \\\\\n",
       "\t28 & 27 & 1.138 & 12 & 1 & 2.003 and 18.075 & $\\dots$ \\\\\n",
       "\t29 & 28 & 1.142 & 12 & 1 & 18.06 or permission of instructor & $\\dots$ \\\\\n",
       "\t30 & 29 & 1.147 & 12 & 1 & \\emph{missing} & $\\dots$ \\\\\n",
       "\t$\\dots$ & $\\dots$ & $\\dots$ & $\\dots$ & $\\dots$ & $\\dots$ &  \\\\\n",
       "\\end{tabular}\n"
      ],
      "text/plain": [
       "\u001b[1m2292×6 DataFrame\u001b[0m\n",
       "\u001b[1m  Row \u001b[0m│\u001b[1m Column1 \u001b[0m\u001b[1m ID      \u001b[0m\u001b[1m Units \u001b[0m\u001b[1m Course \u001b[0m\u001b[1m Prereqs                           \u001b[0m\u001b[1m Se\u001b[0m ⋯\n",
       "\u001b[1m      \u001b[0m│\u001b[90m Int64   \u001b[0m\u001b[90m String  \u001b[0m\u001b[90m Int64 \u001b[0m\u001b[90m String \u001b[0m\u001b[90m String?                           \u001b[0m\u001b[90m St\u001b[0m ⋯\n",
       "──────┼─────────────────────────────────────────────────────────────────────────\n",
       "    1 │       0  1.00        12  1       GIR:CAL1                           [' ⋯\n",
       "    2 │       1  1.001       12  1       GIR:CAL1                           ['\n",
       "    3 │       2  1.004       12  1      \u001b[90m missing                           \u001b[0m ['\n",
       "    4 │       3  1.006       12  1      \u001b[90m missing                           \u001b[0m ['\n",
       "    5 │       4  1.013        6  1       Permission of instructor           [' ⋯\n",
       "    6 │       5  1.015       12  1       2.003, 2.016, and 2.678; [2.671]   ['\n",
       "    7 │       6  1.016        9  1      \u001b[90m missing                           \u001b[0m ['\n",
       "    8 │       7  1.020       12  1       GIR:PHY1, 18.03, and (1.00 or 1.…  ['\n",
       "    9 │       8  1.021       12  1       18.03, 3.016B, or permission of …  [' ⋯\n",
       "   10 │       9  1.024        6  1       (1.000 and 1.010) or permission …  ['\n",
       "   11 │      10  1.035       12  1       1.050 or permission of instructor  ['\n",
       "  ⋮   │    ⋮        ⋮       ⋮      ⋮                     ⋮                     ⋱\n",
       " 2283 │    2282  WGS.275     12  WGS    \u001b[90m missing                           \u001b[0m ['\n",
       " 2284 │    2283  WGS.301     12  WGS    \u001b[90m missing                           \u001b[0m [' ⋯\n",
       " 2285 │    2284  WGS.400      0  WGS     Permission of instructor           ['\n",
       " 2286 │    2285  WGS.600     12  WGS     Must apply to the Graduate Conso…  ['\n",
       " 2287 │    2286  WGS.615     12  WGS     Must apply to the Graduate Conso…  ['\n",
       " 2288 │    2287  WGS.640     12  WGS     Must apply to the Graduate Conso…  [' ⋯\n",
       " 2289 │    2288  WGS.645     12  WGS     Application to the Graduate Cons…  ['\n",
       " 2290 │    2289  WGS.S10     12  WGS    \u001b[90m missing                           \u001b[0m ['\n",
       " 2291 │    2290  WGS.UR       0  WGS     Permission of instructor           ['\n",
       " 2292 │    2291  WGS.URG      0  WGS     Permission of instructor           [' ⋯\n",
       "\u001b[36m                                                  1 column and 2271 rows omitted\u001b[0m"
      ]
     },
     "execution_count": 4,
     "metadata": {},
     "output_type": "execute_result"
    }
   ],
   "source": [
    "using DataFrames, CSV\n",
    "\n",
    "# All available courses\n",
    "courses = CSV.read(\"courses.csv\", DataFrame)\n",
    "courses\n",
    "\n",
    "# courses already taken by the student"
   ]
  },
  {
   "cell_type": "code",
   "execution_count": 2,
   "id": "elegant-measure",
   "metadata": {},
   "outputs": [
    {
     "name": "stdout",
     "output_type": "stream",
     "text": [
      "\r\n",
      "--------------------------------------------\r\n",
      "Warning: your license will expire in 4 days\r\n",
      "--------------------------------------------\r\n",
      "\r\n",
      "Academic license - for non-commercial use only - expires 2021-04-29\r\n"
     ]
    },
    {
     "data": {
      "text/plain": [
       "2292×8 Array{VariableRef,2}:\n",
       " x[1,1]     x[1,2]     x[1,3]     …  x[1,6]     x[1,7]     x[1,8]\n",
       " x[2,1]     x[2,2]     x[2,3]        x[2,6]     x[2,7]     x[2,8]\n",
       " x[3,1]     x[3,2]     x[3,3]        x[3,6]     x[3,7]     x[3,8]\n",
       " x[4,1]     x[4,2]     x[4,3]        x[4,6]     x[4,7]     x[4,8]\n",
       " x[5,1]     x[5,2]     x[5,3]        x[5,6]     x[5,7]     x[5,8]\n",
       " x[6,1]     x[6,2]     x[6,3]     …  x[6,6]     x[6,7]     x[6,8]\n",
       " x[7,1]     x[7,2]     x[7,3]        x[7,6]     x[7,7]     x[7,8]\n",
       " x[8,1]     x[8,2]     x[8,3]        x[8,6]     x[8,7]     x[8,8]\n",
       " x[9,1]     x[9,2]     x[9,3]        x[9,6]     x[9,7]     x[9,8]\n",
       " x[10,1]    x[10,2]    x[10,3]       x[10,6]    x[10,7]    x[10,8]\n",
       " x[11,1]    x[11,2]    x[11,3]    …  x[11,6]    x[11,7]    x[11,8]\n",
       " x[12,1]    x[12,2]    x[12,3]       x[12,6]    x[12,7]    x[12,8]\n",
       " x[13,1]    x[13,2]    x[13,3]       x[13,6]    x[13,7]    x[13,8]\n",
       " ⋮                                ⋱  ⋮                     \n",
       " x[2281,1]  x[2281,2]  x[2281,3]  …  x[2281,6]  x[2281,7]  x[2281,8]\n",
       " x[2282,1]  x[2282,2]  x[2282,3]     x[2282,6]  x[2282,7]  x[2282,8]\n",
       " x[2283,1]  x[2283,2]  x[2283,3]     x[2283,6]  x[2283,7]  x[2283,8]\n",
       " x[2284,1]  x[2284,2]  x[2284,3]     x[2284,6]  x[2284,7]  x[2284,8]\n",
       " x[2285,1]  x[2285,2]  x[2285,3]     x[2285,6]  x[2285,7]  x[2285,8]\n",
       " x[2286,1]  x[2286,2]  x[2286,3]  …  x[2286,6]  x[2286,7]  x[2286,8]\n",
       " x[2287,1]  x[2287,2]  x[2287,3]     x[2287,6]  x[2287,7]  x[2287,8]\n",
       " x[2288,1]  x[2288,2]  x[2288,3]     x[2288,6]  x[2288,7]  x[2288,8]\n",
       " x[2289,1]  x[2289,2]  x[2289,3]     x[2289,6]  x[2289,7]  x[2289,8]\n",
       " x[2290,1]  x[2290,2]  x[2290,3]     x[2290,6]  x[2290,7]  x[2290,8]\n",
       " x[2291,1]  x[2291,2]  x[2291,3]  …  x[2291,6]  x[2291,7]  x[2291,8]\n",
       " x[2292,1]  x[2292,2]  x[2292,3]     x[2292,6]  x[2292,7]  x[2292,8]"
      ]
     },
     "execution_count": 2,
     "metadata": {},
     "output_type": "execute_result"
    }
   ],
   "source": [
    "# --- Model specification\n",
    "using JuMP, DataFrames, Gurobi\n",
    "\n",
    "# Global variable\n",
    "current_term = 2\n",
    "\n",
    "# Model\n",
    "model = Model(with_optimizer(Gurobi.Optimizer))\n",
    "\n",
    "# x(s,t): subject s is taken in semester t\n",
    "@variable(model, x[1:2292, 1:8], Bin)\n",
    "\n",
    "# Objective: Maximize the total utility of the subjects taken\n",
    "@objective(m, Max, sum(courses[i, 6]*x[i, j] for i in 1:2292, j in current_term:8))\n",
    "\n",
    "# Constraints"
   ]
  }
 ],
 "metadata": {
  "kernelspec": {
   "display_name": "Julia 1.5.3",
   "language": "julia",
   "name": "julia-1.5"
  },
  "language_info": {
   "file_extension": ".jl",
   "mimetype": "application/julia",
   "name": "julia",
   "version": "1.5.3"
  }
 },
 "nbformat": 4,
 "nbformat_minor": 5
}
